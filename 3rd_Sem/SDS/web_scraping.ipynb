{
 "cells": [
  {
   "cell_type": "markdown",
   "source": [
    "Jupyter notebook is not required but welp"
   ],
   "metadata": {}
  },
  {
   "cell_type": "code",
   "execution_count": 1,
   "source": [
    "from bs4 import BeautifulSoup as bs\r\n",
    "from urllib.request import urlopen\r\n",
    "import requests"
   ],
   "outputs": [],
   "metadata": {}
  },
  {
   "cell_type": "code",
   "execution_count": null,
   "source": [
    "url = \"https://www.amazon.in/Redmi-Note-10S/product-reviews/B08LRDM44F/\"\r\n",
    "\r\n",
    "page = urlopen(url)\r\n",
    "print(page)"
   ],
   "outputs": [],
   "metadata": {}
  }
 ],
 "metadata": {
  "orig_nbformat": 4,
  "language_info": {
   "name": "python",
   "version": "3.8.10",
   "mimetype": "text/x-python",
   "codemirror_mode": {
    "name": "ipython",
    "version": 3
   },
   "pygments_lexer": "ipython3",
   "nbconvert_exporter": "python",
   "file_extension": ".py"
  },
  "kernelspec": {
   "name": "python3",
   "display_name": "Python 3.8.10 64-bit"
  },
  "interpreter": {
   "hash": "8b2e2fe7b8e84dc3977e510369bcb7ff467c8d62e4f018a30f2cccb8203e4dd6"
  }
 },
 "nbformat": 4,
 "nbformat_minor": 2
}